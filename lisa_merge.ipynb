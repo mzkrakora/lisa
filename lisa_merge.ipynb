{
 "cells": [
  {
   "cell_type": "code",
   "execution_count": 54,
   "metadata": {},
   "outputs": [],
   "source": [
    "#import statements\n",
    "import pandas as pd\n",
    "import numpy as np\n",
    "import csv"
   ]
  },
  {
   "cell_type": "code",
   "execution_count": 66,
   "metadata": {},
   "outputs": [],
   "source": [
    "def water_export(x):\n",
    "    water_csv_path = \"EWD_20\"+x+\".csv\"\n",
    "    water_csv = pd.read_table(water_csv_path, sep = ',')\n",
    "    water_csv = water_csv.rename(index = str, columns = {\"Unnamed: 0\":\"Countries\", \"EWD_m^3\":\"20\"+x})\n",
    "    return water_csv"
   ]
  },
  {
   "cell_type": "code",
   "execution_count": 68,
   "metadata": {},
   "outputs": [],
   "source": [
    "one = water_export(\"00\")\n",
    "two = water_export(\"01\")\n",
    "three = water_export(\"02\")\n",
    "four = water_export(\"03\")\n",
    "five = water_export(\"04\")\n",
    "six = water_export(\"05\")\n",
    "seven = water_export(\"06\")\n",
    "eight = water_export(\"07\")\n",
    "nine = water_export(\"08\")\n",
    "ten = water_export(\"09\")\n",
    "eleven = water_export(\"10\")\n",
    "twelve = water_export(\"11\")\n",
    "thirteen = water_export(\"12\")\n",
    "fourteen = water_export(\"13\")\n",
    "fifteen = water_export(\"14\")\n",
    "sixteen = water_export(\"15\")\n",
    "seventeen = water_export(\"16\")"
   ]
  },
  {
   "cell_type": "code",
   "execution_count": 74,
   "metadata": {},
   "outputs": [],
   "source": [
    "#merging\n",
    "water_export = one.merge(two, on = \"Countries\").merge(three, on = \"Countries\").merge(four, on = \"Countries\").merge(five, on = \"Countries\").merge(six, on = \"Countries\").merge(seven, on = \"Countries\").merge(eight, on = \"Countries\").merge(nine, on = \"Countries\").merge(ten, on = \"Countries\").merge(eleven, on = \"Countries\").merge(twelve, on = \"Countries\").merge(thirteen, on = \"Countries\").merge(fourteen, on = \"Countries\").merge(fifteen, on = \"Countries\").merge(sixteen, on = \"Countries\").merge(seventeen, on = \"Countries\")"
   ]
  },
  {
   "cell_type": "code",
   "execution_count": 76,
   "metadata": {},
   "outputs": [],
   "source": [
    "#exporting as csv\n",
    "water_export.to_csv(path_or_buf = \"water_export.csv\", index = False)"
   ]
  }
 ],
 "metadata": {
  "kernelspec": {
   "display_name": "Python 2",
   "language": "python",
   "name": "python2"
  },
  "language_info": {
   "codemirror_mode": {
    "name": "ipython",
    "version": 2
   },
   "file_extension": ".py",
   "mimetype": "text/x-python",
   "name": "python",
   "nbconvert_exporter": "python",
   "pygments_lexer": "ipython2",
   "version": "2.7.15rc1"
  }
 },
 "nbformat": 4,
 "nbformat_minor": 2
}
